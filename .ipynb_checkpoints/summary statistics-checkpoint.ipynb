{
 "metadata": {
  "name": "",
  "signature": "sha256:94b0ca73177083a1d221733cbe4d671bd3eb91d3507420eb0319efb0e1f4685a"
 },
 "nbformat": 3,
 "nbformat_minor": 0,
 "worksheets": [
  {
   "cells": [
    {
     "cell_type": "code",
     "collapsed": false,
     "input": [
      "import pandas as pd\n",
      "import json"
     ],
     "language": "python",
     "metadata": {},
     "outputs": [],
     "prompt_number": 47
    },
    {
     "cell_type": "code",
     "collapsed": false,
     "input": [
      "mappings = pd.read_csv(\"data/restaurant_ids_to_yelp_ids.csv\")"
     ],
     "language": "python",
     "metadata": {},
     "outputs": [],
     "prompt_number": 48
    },
    {
     "cell_type": "code",
     "collapsed": false,
     "input": [
      "mappings['combined_ids'] = mappings[['yelp_id_0', 'yelp_id_1', 'yelp_id_2']].apply(\n",
      "             lambda x: '_'.join(map(str, x)), axis=1)\n",
      "mappings.tail()\n"
     ],
     "language": "python",
     "metadata": {},
     "outputs": [
      {
       "html": [
        "<div style=\"max-height:1000px;max-width:1500px;overflow:auto;\">\n",
        "<table border=\"1\" class=\"dataframe\">\n",
        "  <thead>\n",
        "    <tr style=\"text-align: right;\">\n",
        "      <th></th>\n",
        "      <th>restaurant_id</th>\n",
        "      <th>yelp_id_0</th>\n",
        "      <th>yelp_id_1</th>\n",
        "      <th>yelp_id_2</th>\n",
        "      <th>yelp_id_3</th>\n",
        "      <th>combined_ids</th>\n",
        "    </tr>\n",
        "  </thead>\n",
        "  <tbody>\n",
        "    <tr>\n",
        "      <th>1766</th>\n",
        "      <td> wmo7MvEq</td>\n",
        "      <td> MNDAsIPlo2EllYLYl8VWVA</td>\n",
        "      <td> 79NxoobpO3DYOcrOxZdyTw</td>\n",
        "      <td> NaN</td>\n",
        "      <td> NaN</td>\n",
        "      <td> MNDAsIPlo2EllYLYl8VWVA_79NxoobpO3DYOcrOxZdyTw_nan</td>\n",
        "    </tr>\n",
        "    <tr>\n",
        "      <th>1767</th>\n",
        "      <td> 7RO5KX3q</td>\n",
        "      <td> SZ6JsVeCW2srYJrU1i1zIw</td>\n",
        "      <td>                    NaN</td>\n",
        "      <td> NaN</td>\n",
        "      <td> NaN</td>\n",
        "      <td>                    SZ6JsVeCW2srYJrU1i1zIw_nan_nan</td>\n",
        "    </tr>\n",
        "    <tr>\n",
        "      <th>1768</th>\n",
        "      <td> xWoYkGEK</td>\n",
        "      <td> sZdUTncIVZCIRrN_9343Xg</td>\n",
        "      <td> WjKM25UWv6BfR9xrx_hciQ</td>\n",
        "      <td> NaN</td>\n",
        "      <td> NaN</td>\n",
        "      <td> sZdUTncIVZCIRrN_9343Xg_WjKM25UWv6BfR9xrx_hciQ_nan</td>\n",
        "    </tr>\n",
        "    <tr>\n",
        "      <th>1769</th>\n",
        "      <td> 0j3LVqOr</td>\n",
        "      <td> nJTB6M5jrYY1PaBBU8xruA</td>\n",
        "      <td>                    NaN</td>\n",
        "      <td> NaN</td>\n",
        "      <td> NaN</td>\n",
        "      <td>                    nJTB6M5jrYY1PaBBU8xruA_nan_nan</td>\n",
        "    </tr>\n",
        "    <tr>\n",
        "      <th>1770</th>\n",
        "      <td> 9JoPrdE8</td>\n",
        "      <td> 4FfbH_ZY7b3GvqtnlTSfNQ</td>\n",
        "      <td>                    NaN</td>\n",
        "      <td> NaN</td>\n",
        "      <td> NaN</td>\n",
        "      <td>                    4FfbH_ZY7b3GvqtnlTSfNQ_nan_nan</td>\n",
        "    </tr>\n",
        "  </tbody>\n",
        "</table>\n",
        "</div>"
       ],
       "metadata": {},
       "output_type": "pyout",
       "prompt_number": 81,
       "text": [
        "     restaurant_id               yelp_id_0               yelp_id_1 yelp_id_2  \\\n",
        "1766      wmo7MvEq  MNDAsIPlo2EllYLYl8VWVA  79NxoobpO3DYOcrOxZdyTw       NaN   \n",
        "1767      7RO5KX3q  SZ6JsVeCW2srYJrU1i1zIw                     NaN       NaN   \n",
        "1768      xWoYkGEK  sZdUTncIVZCIRrN_9343Xg  WjKM25UWv6BfR9xrx_hciQ       NaN   \n",
        "1769      0j3LVqOr  nJTB6M5jrYY1PaBBU8xruA                     NaN       NaN   \n",
        "1770      9JoPrdE8  4FfbH_ZY7b3GvqtnlTSfNQ                     NaN       NaN   \n",
        "\n",
        "     yelp_id_3                                       combined_ids  \n",
        "1766       NaN  MNDAsIPlo2EllYLYl8VWVA_79NxoobpO3DYOcrOxZdyTw_nan  \n",
        "1767       NaN                     SZ6JsVeCW2srYJrU1i1zIw_nan_nan  \n",
        "1768       NaN  sZdUTncIVZCIRrN_9343Xg_WjKM25UWv6BfR9xrx_hciQ_nan  \n",
        "1769       NaN                     nJTB6M5jrYY1PaBBU8xruA_nan_nan  \n",
        "1770       NaN                     4FfbH_ZY7b3GvqtnlTSfNQ_nan_nan  "
       ]
      }
     ],
     "prompt_number": 81
    },
    {
     "cell_type": "code",
     "collapsed": false,
     "input": [
      "training_labels = pd.read_csv(\"data/train_labels.csv\")"
     ],
     "language": "python",
     "metadata": {},
     "outputs": [],
     "prompt_number": 50
    },
    {
     "cell_type": "code",
     "collapsed": false,
     "input": [
      "training_labels.head()"
     ],
     "language": "python",
     "metadata": {},
     "outputs": [
      {
       "html": [
        "<div style=\"max-height:1000px;max-width:1500px;overflow:auto;\">\n",
        "<table border=\"1\" class=\"dataframe\">\n",
        "  <thead>\n",
        "    <tr style=\"text-align: right;\">\n",
        "      <th></th>\n",
        "      <th>id</th>\n",
        "      <th>date</th>\n",
        "      <th>restaurant_id</th>\n",
        "      <th>*</th>\n",
        "      <th>**</th>\n",
        "      <th>***</th>\n",
        "    </tr>\n",
        "  </thead>\n",
        "  <tbody>\n",
        "    <tr>\n",
        "      <th>0</th>\n",
        "      <td>  9417</td>\n",
        "      <td> 2013-12-30</td>\n",
        "      <td> rJoQVAOV</td>\n",
        "      <td> 0</td>\n",
        "      <td> 0</td>\n",
        "      <td> 0</td>\n",
        "    </tr>\n",
        "    <tr>\n",
        "      <th>1</th>\n",
        "      <td>  9309</td>\n",
        "      <td> 2010-02-25</td>\n",
        "      <td> njoZKbOr</td>\n",
        "      <td> 1</td>\n",
        "      <td> 0</td>\n",
        "      <td> 2</td>\n",
        "    </tr>\n",
        "    <tr>\n",
        "      <th>2</th>\n",
        "      <td>  9462</td>\n",
        "      <td> 2010-08-04</td>\n",
        "      <td> XJ3r4qOR</td>\n",
        "      <td> 4</td>\n",
        "      <td> 2</td>\n",
        "      <td> 0</td>\n",
        "    </tr>\n",
        "    <tr>\n",
        "      <th>3</th>\n",
        "      <td> 27235</td>\n",
        "      <td> 2013-11-18</td>\n",
        "      <td> 6K3lG5Ez</td>\n",
        "      <td> 2</td>\n",
        "      <td> 1</td>\n",
        "      <td> 0</td>\n",
        "    </tr>\n",
        "    <tr>\n",
        "      <th>4</th>\n",
        "      <td> 20652</td>\n",
        "      <td> 2008-05-07</td>\n",
        "      <td> lnORDD3N</td>\n",
        "      <td> 9</td>\n",
        "      <td> 2</td>\n",
        "      <td> 2</td>\n",
        "    </tr>\n",
        "  </tbody>\n",
        "</table>\n",
        "</div>"
       ],
       "metadata": {},
       "output_type": "pyout",
       "prompt_number": 51,
       "text": [
        "      id        date restaurant_id  *  **  ***\n",
        "0   9417  2013-12-30      rJoQVAOV  0   0    0\n",
        "1   9309  2010-02-25      njoZKbOr  1   0    2\n",
        "2   9462  2010-08-04      XJ3r4qOR  4   2    0\n",
        "3  27235  2013-11-18      6K3lG5Ez  2   1    0\n",
        "4  20652  2008-05-07      lnORDD3N  9   2    2"
       ]
      }
     ],
     "prompt_number": 51
    },
    {
     "cell_type": "code",
     "collapsed": false,
     "input": [
      "def _load_lines(input_file):\n",
      "\tdata = []\n",
      "\twith open(input_file) as f:\n",
      "\t\tfor line in f:\n",
      "\t\t\ttry:\n",
      "\t\t\t\tdata.append(json.loads(line))\n",
      "\t\t\texcept ValueError:\n",
      "\t\t\t\tpass\n",
      "\treturn data"
     ],
     "language": "python",
     "metadata": {},
     "outputs": [],
     "prompt_number": 52
    },
    {
     "cell_type": "code",
     "collapsed": false,
     "input": [
      "input_file = 'data/yelp_boston_academic_dataset/yelp_academic_dataset_business.json'"
     ],
     "language": "python",
     "metadata": {},
     "outputs": [],
     "prompt_number": 53
    },
    {
     "cell_type": "code",
     "collapsed": false,
     "input": [
      "df = pd.DataFrame(_load_lines(input_file))\n",
      "df.business_id.head(10)"
     ],
     "language": "python",
     "metadata": {},
     "outputs": [
      {
       "metadata": {},
       "output_type": "pyout",
       "prompt_number": 85,
       "text": [
        "0    Jp9svt7sRT4zwdbzQ8KQmw\n",
        "1    CgdK8DiyX9Y4kTKEPi_qgA\n",
        "2    SAnMTC1rm-PhP8DQC4zeyg\n",
        "3    75dtVyDb8Sfwb7dR0cBvdg\n",
        "4    0uvgsJnwyCvNpjHOEYtlyQ\n",
        "5    fYWIxI6kwuVqpPu1I1baWA\n",
        "6    jAjZ6CXLrXW30zXM3ZEjhg\n",
        "7    eBhOMstBTgGvJak8amU91g\n",
        "8    283jjsb0TMPtkFB8AnUe_g\n",
        "9    KktmGOBowhaKauCA2vPGFg\n",
        "Name: business_id, dtype: object"
       ]
      }
     ],
     "prompt_number": 85
    },
    {
     "cell_type": "code",
     "collapsed": false,
     "input": [
      "def append_mappings(business_id, mappings):\n",
      "    \"\"\"\"\"\"\n",
      "    try:\n",
      "        temp = mappings[mappings.yelp_id_0 == business_id]\n",
      "        if len(temp) == 1:\n",
      "            return temp.restaurant_id\n",
      "    except TypeError:\n",
      "        pass\n",
      "    \n",
      "    \n",
      "    return None\n",
      "\n",
      "\n",
      "df.restaurant_id = df.business_id.apply(lambda business_id : append_mappings(business_id,mappings))\n",
      "df.restaurant_id"
     ],
     "language": "python",
     "metadata": {},
     "outputs": [
      {
       "ename": "TypeError",
       "evalue": "object of type 'NoneType' has no len()",
       "output_type": "pyerr",
       "traceback": [
        "\u001b[0;31m---------------------------------------------------------------------------\u001b[0m\n\u001b[0;31mTypeError\u001b[0m                                 Traceback (most recent call last)",
        "\u001b[0;32m<ipython-input-92-bec23c693523>\u001b[0m in \u001b[0;36m<module>\u001b[0;34m()\u001b[0m\n\u001b[1;32m     12\u001b[0m \u001b[0;34m\u001b[0m\u001b[0m\n\u001b[1;32m     13\u001b[0m \u001b[0;34m\u001b[0m\u001b[0m\n\u001b[0;32m---> 14\u001b[0;31m \u001b[0mdf\u001b[0m\u001b[0;34m.\u001b[0m\u001b[0mrestaurant_id\u001b[0m \u001b[0;34m=\u001b[0m \u001b[0mdf\u001b[0m\u001b[0;34m.\u001b[0m\u001b[0mbusiness_id\u001b[0m\u001b[0;34m.\u001b[0m\u001b[0mapply\u001b[0m\u001b[0;34m(\u001b[0m\u001b[0;32mlambda\u001b[0m \u001b[0mbusiness_id\u001b[0m \u001b[0;34m:\u001b[0m \u001b[0mappend_mappings\u001b[0m\u001b[0;34m(\u001b[0m\u001b[0mbusiness_id\u001b[0m\u001b[0;34m,\u001b[0m\u001b[0mmappings\u001b[0m\u001b[0;34m)\u001b[0m\u001b[0;34m)\u001b[0m\u001b[0;34m\u001b[0m\u001b[0m\n\u001b[0m\u001b[1;32m     15\u001b[0m \u001b[0mdf\u001b[0m\u001b[0;34m.\u001b[0m\u001b[0mrestaurant_id\u001b[0m\u001b[0;34m\u001b[0m\u001b[0m\n",
        "\u001b[0;32m/Users/josephmisiti/mathandpencil/projects/machinelearning/lib/python2.7/site-packages/pandas/core/series.pyc\u001b[0m in \u001b[0;36mapply\u001b[0;34m(self, func, convert_dtype, args, **kwds)\u001b[0m\n\u001b[1;32m   2059\u001b[0m         \u001b[0;32mif\u001b[0m \u001b[0mlen\u001b[0m\u001b[0;34m(\u001b[0m\u001b[0mmapped\u001b[0m\u001b[0;34m)\u001b[0m \u001b[0;32mand\u001b[0m \u001b[0misinstance\u001b[0m\u001b[0;34m(\u001b[0m\u001b[0mmapped\u001b[0m\u001b[0;34m[\u001b[0m\u001b[0;36m0\u001b[0m\u001b[0;34m]\u001b[0m\u001b[0;34m,\u001b[0m \u001b[0mSeries\u001b[0m\u001b[0;34m)\u001b[0m\u001b[0;34m:\u001b[0m\u001b[0;34m\u001b[0m\u001b[0m\n\u001b[1;32m   2060\u001b[0m             \u001b[0;32mfrom\u001b[0m \u001b[0mpandas\u001b[0m\u001b[0;34m.\u001b[0m\u001b[0mcore\u001b[0m\u001b[0;34m.\u001b[0m\u001b[0mframe\u001b[0m \u001b[0;32mimport\u001b[0m \u001b[0mDataFrame\u001b[0m\u001b[0;34m\u001b[0m\u001b[0m\n\u001b[0;32m-> 2061\u001b[0;31m             \u001b[0;32mreturn\u001b[0m \u001b[0mDataFrame\u001b[0m\u001b[0;34m(\u001b[0m\u001b[0mmapped\u001b[0m\u001b[0;34m.\u001b[0m\u001b[0mtolist\u001b[0m\u001b[0;34m(\u001b[0m\u001b[0;34m)\u001b[0m\u001b[0;34m,\u001b[0m \u001b[0mindex\u001b[0m\u001b[0;34m=\u001b[0m\u001b[0mself\u001b[0m\u001b[0;34m.\u001b[0m\u001b[0mindex\u001b[0m\u001b[0;34m)\u001b[0m\u001b[0;34m\u001b[0m\u001b[0m\n\u001b[0m\u001b[1;32m   2062\u001b[0m         \u001b[0;32melse\u001b[0m\u001b[0;34m:\u001b[0m\u001b[0;34m\u001b[0m\u001b[0m\n\u001b[1;32m   2063\u001b[0m             return self._constructor(mapped,\n",
        "\u001b[0;32m/Users/josephmisiti/mathandpencil/projects/machinelearning/lib/python2.7/site-packages/pandas/core/frame.pyc\u001b[0m in \u001b[0;36m__init__\u001b[0;34m(self, data, index, columns, dtype, copy)\u001b[0m\n\u001b[1;32m    243\u001b[0m             \u001b[0;32mif\u001b[0m \u001b[0mlen\u001b[0m\u001b[0;34m(\u001b[0m\u001b[0mdata\u001b[0m\u001b[0;34m)\u001b[0m \u001b[0;34m>\u001b[0m \u001b[0;36m0\u001b[0m\u001b[0;34m:\u001b[0m\u001b[0;34m\u001b[0m\u001b[0m\n\u001b[1;32m    244\u001b[0m                 \u001b[0;32mif\u001b[0m \u001b[0mis_list_like\u001b[0m\u001b[0;34m(\u001b[0m\u001b[0mdata\u001b[0m\u001b[0;34m[\u001b[0m\u001b[0;36m0\u001b[0m\u001b[0;34m]\u001b[0m\u001b[0;34m)\u001b[0m \u001b[0;32mand\u001b[0m \u001b[0mgetattr\u001b[0m\u001b[0;34m(\u001b[0m\u001b[0mdata\u001b[0m\u001b[0;34m[\u001b[0m\u001b[0;36m0\u001b[0m\u001b[0;34m]\u001b[0m\u001b[0;34m,\u001b[0m \u001b[0;34m'ndim'\u001b[0m\u001b[0;34m,\u001b[0m \u001b[0;36m1\u001b[0m\u001b[0;34m)\u001b[0m \u001b[0;34m==\u001b[0m \u001b[0;36m1\u001b[0m\u001b[0;34m:\u001b[0m\u001b[0;34m\u001b[0m\u001b[0m\n\u001b[0;32m--> 245\u001b[0;31m                     \u001b[0marrays\u001b[0m\u001b[0;34m,\u001b[0m \u001b[0mcolumns\u001b[0m \u001b[0;34m=\u001b[0m \u001b[0m_to_arrays\u001b[0m\u001b[0;34m(\u001b[0m\u001b[0mdata\u001b[0m\u001b[0;34m,\u001b[0m \u001b[0mcolumns\u001b[0m\u001b[0;34m,\u001b[0m \u001b[0mdtype\u001b[0m\u001b[0;34m=\u001b[0m\u001b[0mdtype\u001b[0m\u001b[0;34m)\u001b[0m\u001b[0;34m\u001b[0m\u001b[0m\n\u001b[0m\u001b[1;32m    246\u001b[0m                     \u001b[0mcolumns\u001b[0m \u001b[0;34m=\u001b[0m \u001b[0m_ensure_index\u001b[0m\u001b[0;34m(\u001b[0m\u001b[0mcolumns\u001b[0m\u001b[0;34m)\u001b[0m\u001b[0;34m\u001b[0m\u001b[0m\n\u001b[1;32m    247\u001b[0m \u001b[0;34m\u001b[0m\u001b[0m\n",
        "\u001b[0;32m/Users/josephmisiti/mathandpencil/projects/machinelearning/lib/python2.7/site-packages/pandas/core/frame.pyc\u001b[0m in \u001b[0;36m_to_arrays\u001b[0;34m(data, columns, coerce_float, dtype)\u001b[0m\n\u001b[1;32m   4744\u001b[0m         return _list_of_series_to_arrays(data, columns,\n\u001b[1;32m   4745\u001b[0m                                          \u001b[0mcoerce_float\u001b[0m\u001b[0;34m=\u001b[0m\u001b[0mcoerce_float\u001b[0m\u001b[0;34m,\u001b[0m\u001b[0;34m\u001b[0m\u001b[0m\n\u001b[0;32m-> 4746\u001b[0;31m                                          dtype=dtype)\n\u001b[0m\u001b[1;32m   4747\u001b[0m     \u001b[0;32melif\u001b[0m \u001b[0misinstance\u001b[0m\u001b[0;34m(\u001b[0m\u001b[0mdata\u001b[0m\u001b[0;34m[\u001b[0m\u001b[0;36m0\u001b[0m\u001b[0;34m]\u001b[0m\u001b[0;34m,\u001b[0m \u001b[0mCategorical\u001b[0m\u001b[0;34m)\u001b[0m\u001b[0;34m:\u001b[0m\u001b[0;34m\u001b[0m\u001b[0m\n\u001b[1;32m   4748\u001b[0m         \u001b[0;32mif\u001b[0m \u001b[0mcolumns\u001b[0m \u001b[0;32mis\u001b[0m \u001b[0mNone\u001b[0m\u001b[0;34m:\u001b[0m\u001b[0;34m\u001b[0m\u001b[0m\n",
        "\u001b[0;32m/Users/josephmisiti/mathandpencil/projects/machinelearning/lib/python2.7/site-packages/pandas/core/frame.pyc\u001b[0m in \u001b[0;36m_list_of_series_to_arrays\u001b[0;34m(data, columns, coerce_float, dtype)\u001b[0m\n\u001b[1;32m   4836\u001b[0m         \u001b[0mindex\u001b[0m \u001b[0;34m=\u001b[0m \u001b[0mgetattr\u001b[0m\u001b[0;34m(\u001b[0m\u001b[0ms\u001b[0m\u001b[0;34m,\u001b[0m \u001b[0;34m'index'\u001b[0m\u001b[0;34m,\u001b[0m \u001b[0mNone\u001b[0m\u001b[0;34m)\u001b[0m\u001b[0;34m\u001b[0m\u001b[0m\n\u001b[1;32m   4837\u001b[0m         \u001b[0;32mif\u001b[0m \u001b[0mindex\u001b[0m \u001b[0;32mis\u001b[0m \u001b[0mNone\u001b[0m\u001b[0;34m:\u001b[0m\u001b[0;34m\u001b[0m\u001b[0m\n\u001b[0;32m-> 4838\u001b[0;31m             \u001b[0mindex\u001b[0m \u001b[0;34m=\u001b[0m \u001b[0m_default_index\u001b[0m\u001b[0;34m(\u001b[0m\u001b[0mlen\u001b[0m\u001b[0;34m(\u001b[0m\u001b[0ms\u001b[0m\u001b[0;34m)\u001b[0m\u001b[0;34m)\u001b[0m\u001b[0;34m\u001b[0m\u001b[0m\n\u001b[0m\u001b[1;32m   4839\u001b[0m \u001b[0;34m\u001b[0m\u001b[0m\n\u001b[1;32m   4840\u001b[0m         \u001b[0;32mif\u001b[0m \u001b[0mid\u001b[0m\u001b[0;34m(\u001b[0m\u001b[0mindex\u001b[0m\u001b[0;34m)\u001b[0m \u001b[0;32min\u001b[0m \u001b[0mindexer_cache\u001b[0m\u001b[0;34m:\u001b[0m\u001b[0;34m\u001b[0m\u001b[0m\n",
        "\u001b[0;31mTypeError\u001b[0m: object of type 'NoneType' has no len()"
       ]
      }
     ],
     "prompt_number": 92
    },
    {
     "cell_type": "code",
     "collapsed": false,
     "input": [],
     "language": "python",
     "metadata": {},
     "outputs": [],
     "prompt_number": 57
    }
   ],
   "metadata": {}
  }
 ]
}